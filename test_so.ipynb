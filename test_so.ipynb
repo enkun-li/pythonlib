{
 "cells": [
  {
   "cell_type": "code",
   "execution_count": 1,
   "metadata": {},
   "outputs": [],
   "source": [
    "%matplotlib inline\n",
    "import numpy as np\n",
    "import matplotlib.pyplot as plt\n",
    "from gp_likelihood import GaussianProcesses as GP\n",
    "from gp_likelihood import min_GaussianProcesses as mGP\n",
    "from gp_likelihood import rec_GaussianProcesses as rGP\n",
    "from gp_likelihood import rec_extern_GaussianProcesses as rexGP\n",
    "from gapp import dgp\n",
    "\n",
    "import time\n",
    "from multiprocessing.dummy import Pool as Pool"
   ]
  },
  {
   "cell_type": "code",
   "execution_count": 2,
   "metadata": {},
   "outputs": [],
   "source": [
    "%load_ext cython"
   ]
  },
  {
   "cell_type": "code",
   "execution_count": 26,
   "metadata": {
    "scrolled": true
   },
   "outputs": [
    {
     "name": "stderr",
     "output_type": "stream",
     "text": [
      "\n",
      "Error compiling Cython file:\n",
      "------------------------------------------------------------\n",
      "...\n",
      "    cdef Py_ssize_t i\n",
      "    \n",
      "    gp = rexGP(X,Y,Cov,sigf,lenf)\n",
      "    \n",
      "    for i in prange(n, nogil=True):\n",
      "        rec[i] = gp.integrate_one_over_mu(z[i])\n",
      "                                        ^\n",
      "------------------------------------------------------------\n",
      "\n",
      "/home/ekli/.cache/ipython/cython/_cython_magic_0560a0e3dd1203b28d1a872d3c0eb8f6.pyx:40:41: Coercion from Python not allowed without the GIL\n",
      "\n",
      "Error compiling Cython file:\n",
      "------------------------------------------------------------\n",
      "...\n",
      "    cdef Py_ssize_t i\n",
      "    \n",
      "    gp = rexGP(X,Y,Cov,sigf,lenf)\n",
      "    \n",
      "    for i in prange(n, nogil=True):\n",
      "        rec[i] = gp.integrate_one_over_mu(z[i])\n",
      "                                        ^\n",
      "------------------------------------------------------------\n",
      "\n",
      "/home/ekli/.cache/ipython/cython/_cython_magic_0560a0e3dd1203b28d1a872d3c0eb8f6.pyx:40:41: Calling gil-requiring function not allowed without gil\n",
      "\n",
      "Error compiling Cython file:\n",
      "------------------------------------------------------------\n",
      "...\n",
      "    cdef Py_ssize_t i\n",
      "    \n",
      "    gp = rexGP(X,Y,Cov,sigf,lenf)\n",
      "    \n",
      "    for i in prange(n, nogil=True):\n",
      "        rec[i] = gp.integrate_one_over_mu(z[i])\n",
      "                  ^\n",
      "------------------------------------------------------------\n",
      "\n",
      "/home/ekli/.cache/ipython/cython/_cython_magic_0560a0e3dd1203b28d1a872d3c0eb8f6.pyx:40:19: Accessing Python attribute not allowed without gil\n",
      "\n",
      "Error compiling Cython file:\n",
      "------------------------------------------------------------\n",
      "...\n",
      "    cdef Py_ssize_t i\n",
      "    \n",
      "    gp = rexGP(X,Y,Cov,sigf,lenf)\n",
      "    \n",
      "    for i in prange(n, nogil=True):\n",
      "        rec[i] = gp.integrate_one_over_mu(z[i])\n",
      "                                        ^\n",
      "------------------------------------------------------------\n",
      "\n",
      "/home/ekli/.cache/ipython/cython/_cython_magic_0560a0e3dd1203b28d1a872d3c0eb8f6.pyx:40:41: Constructing Python tuple not allowed without gil\n",
      "\n",
      "Error compiling Cython file:\n",
      "------------------------------------------------------------\n",
      "...\n",
      "    cdef Py_ssize_t i\n",
      "    \n",
      "    gp = rexGP(X,Y,Cov,sigf,lenf)\n",
      "    \n",
      "    for i in prange(n, nogil=True):\n",
      "        rec[i] = gp.integrate_one_over_mu(z[i])\n",
      "                                          ^\n",
      "------------------------------------------------------------\n",
      "\n",
      "/home/ekli/.cache/ipython/cython/_cython_magic_0560a0e3dd1203b28d1a872d3c0eb8f6.pyx:40:43: Converting to Python object not allowed without gil\n"
     ]
    },
    {
     "ename": "TypeError",
     "evalue": "object of type 'NoneType' has no len()",
     "output_type": "error",
     "traceback": [
      "\u001b[0;31m---------------------------------------------------------------------------\u001b[0m",
      "\u001b[0;31mTypeError\u001b[0m                                 Traceback (most recent call last)",
      "\u001b[0;32m<ipython-input-26-99d76e83838c>\u001b[0m in \u001b[0;36m<module>\u001b[0;34m()\u001b[0m\n\u001b[0;32m----> 1\u001b[0;31m \u001b[0mget_ipython\u001b[0m\u001b[0;34m(\u001b[0m\u001b[0;34m)\u001b[0m\u001b[0;34m.\u001b[0m\u001b[0mrun_cell_magic\u001b[0m\u001b[0;34m(\u001b[0m\u001b[0;34m'cython'\u001b[0m\u001b[0;34m,\u001b[0m \u001b[0;34m'--cplus --compile-args=-fopenmp --link-args=-fopenmp'\u001b[0m\u001b[0;34m,\u001b[0m \u001b[0;34m'\\nfrom cython.parallel import prange#, Py_size_t\\nfrom cython.operator import postincrement as postIncr\\nimport numpy as np\\ncimport numpy as np\\nfrom gp_likelihood import GaussianProcesses as GP\\nfrom gp_likelihood import min_GaussianProcesses as mGP\\nfrom gp_likelihood import rec_GaussianProcesses as rGP\\nfrom gp_likelihood import rec_extern_GaussianProcesses as rexGP\\nfrom multiprocessing import Pool as Pool, cpu_count\\n\\ncpdef double[:] get_hyper_pars(double[:] X, double[:] Y, double[:,:] Cov):\\n    gpY = mGP(X,Y,Cov)\\n    res = gpY.min_loglikelihood()\\n    print(res)\\n    return res.x\\n\\ncpdef double[:] rec_int_dzdmu(double[:] z, double[:] X, double[:] Y, double[:,:] Cov,\\n                               double sigf, double lenf):\\n    cdef int n, i\\n    #cdef Py_size_t j\\n    cdef double[:] rec\\n    \\n    n = z.shape[0]\\n    rec = np.zeros(n)\\n    gp = rexGP(X,Y,Cov,sigf,lenf)\\n    \\n    for i in range(n):\\n        rec[i] = gp.integrate_one_over_mu(z[i])\\n    return rec\\n\\ncpdef rec_int_dzdmu_p(double[:] z, double[:] rec, double[:] X, double[:] Y, double[:,:] Cov,\\n                               double sigf, double lenf):\\n    cdef int n\\n    cdef Py_ssize_t i\\n    \\n    gp = rexGP(X,Y,Cov,sigf,lenf)\\n    \\n    for i in prange(n, nogil=True):\\n        rec[i] = gp.integrate_one_over_mu(z[i])\\n    return\\n\\n#def process_rec_int(zi, gp):\\n#    return gp.integrate_one_over_mu(zi)\\n\\n#def rec_int_dzdm_pool(double[:] z, double[:] X, double[:] Y, double[:,:] Cov,\\n#                               double sigf, double lenf):\\n#    cdef int cores, i, j, n\\n#    cdef list p_list\\n#    \\n#    cores = cpu_count()\\n#    pool = Pool(cores)\\n#    n = z.shape[0]\\n#    gp = rexGP(X,Y,Cov,sigf,lenf)\\n#    \\n#    p_list = []\\n#    for i in range(n):\\n#        pp = pool.apply_async(process_rec_int, args=(z[i], gp))\\n#        p_list.append(pp)\\n#    result = [pp.get() for pp in p_list]\\n#    pool.close()\\n#    pool.join()\\n#    return result'\u001b[0m\u001b[0;34m)\u001b[0m\u001b[0;34m\u001b[0m\u001b[0;34m\u001b[0m\u001b[0m\n\u001b[0m",
      "\u001b[0;32m~/.local/anaconda3/lib/python3.7/site-packages/IPython/core/interactiveshell.py\u001b[0m in \u001b[0;36mrun_cell_magic\u001b[0;34m(self, magic_name, line, cell)\u001b[0m\n\u001b[1;32m   2165\u001b[0m             \u001b[0mmagic_arg_s\u001b[0m \u001b[0;34m=\u001b[0m \u001b[0mself\u001b[0m\u001b[0;34m.\u001b[0m\u001b[0mvar_expand\u001b[0m\u001b[0;34m(\u001b[0m\u001b[0mline\u001b[0m\u001b[0;34m,\u001b[0m \u001b[0mstack_depth\u001b[0m\u001b[0;34m)\u001b[0m\u001b[0;34m\u001b[0m\u001b[0;34m\u001b[0m\u001b[0m\n\u001b[1;32m   2166\u001b[0m             \u001b[0;32mwith\u001b[0m \u001b[0mself\u001b[0m\u001b[0;34m.\u001b[0m\u001b[0mbuiltin_trap\u001b[0m\u001b[0;34m:\u001b[0m\u001b[0;34m\u001b[0m\u001b[0;34m\u001b[0m\u001b[0m\n\u001b[0;32m-> 2167\u001b[0;31m                 \u001b[0mresult\u001b[0m \u001b[0;34m=\u001b[0m \u001b[0mfn\u001b[0m\u001b[0;34m(\u001b[0m\u001b[0mmagic_arg_s\u001b[0m\u001b[0;34m,\u001b[0m \u001b[0mcell\u001b[0m\u001b[0;34m)\u001b[0m\u001b[0;34m\u001b[0m\u001b[0;34m\u001b[0m\u001b[0m\n\u001b[0m\u001b[1;32m   2168\u001b[0m             \u001b[0;32mreturn\u001b[0m \u001b[0mresult\u001b[0m\u001b[0;34m\u001b[0m\u001b[0;34m\u001b[0m\u001b[0m\n\u001b[1;32m   2169\u001b[0m \u001b[0;34m\u001b[0m\u001b[0m\n",
      "\u001b[0;32m<decorator-gen-127>\u001b[0m in \u001b[0;36mcython\u001b[0;34m(self, line, cell)\u001b[0m\n",
      "\u001b[0;32m~/.local/anaconda3/lib/python3.7/site-packages/IPython/core/magic.py\u001b[0m in \u001b[0;36m<lambda>\u001b[0;34m(f, *a, **k)\u001b[0m\n\u001b[1;32m    185\u001b[0m     \u001b[0;31m# but it's overkill for just that one bit of state.\u001b[0m\u001b[0;34m\u001b[0m\u001b[0;34m\u001b[0m\u001b[0;34m\u001b[0m\u001b[0m\n\u001b[1;32m    186\u001b[0m     \u001b[0;32mdef\u001b[0m \u001b[0mmagic_deco\u001b[0m\u001b[0;34m(\u001b[0m\u001b[0marg\u001b[0m\u001b[0;34m)\u001b[0m\u001b[0;34m:\u001b[0m\u001b[0;34m\u001b[0m\u001b[0;34m\u001b[0m\u001b[0m\n\u001b[0;32m--> 187\u001b[0;31m         \u001b[0mcall\u001b[0m \u001b[0;34m=\u001b[0m \u001b[0;32mlambda\u001b[0m \u001b[0mf\u001b[0m\u001b[0;34m,\u001b[0m \u001b[0;34m*\u001b[0m\u001b[0ma\u001b[0m\u001b[0;34m,\u001b[0m \u001b[0;34m**\u001b[0m\u001b[0mk\u001b[0m\u001b[0;34m:\u001b[0m \u001b[0mf\u001b[0m\u001b[0;34m(\u001b[0m\u001b[0;34m*\u001b[0m\u001b[0ma\u001b[0m\u001b[0;34m,\u001b[0m \u001b[0;34m**\u001b[0m\u001b[0mk\u001b[0m\u001b[0;34m)\u001b[0m\u001b[0;34m\u001b[0m\u001b[0;34m\u001b[0m\u001b[0m\n\u001b[0m\u001b[1;32m    188\u001b[0m \u001b[0;34m\u001b[0m\u001b[0m\n\u001b[1;32m    189\u001b[0m         \u001b[0;32mif\u001b[0m \u001b[0mcallable\u001b[0m\u001b[0;34m(\u001b[0m\u001b[0marg\u001b[0m\u001b[0;34m)\u001b[0m\u001b[0;34m:\u001b[0m\u001b[0;34m\u001b[0m\u001b[0;34m\u001b[0m\u001b[0m\n",
      "\u001b[0;32m~/.local/anaconda3/lib/python3.7/site-packages/Cython/Build/IpythonMagic.py\u001b[0m in \u001b[0;36mcython\u001b[0;34m(self, line, cell)\u001b[0m\n\u001b[1;32m    319\u001b[0m         \u001b[0;32mif\u001b[0m \u001b[0mneed_cythonize\u001b[0m\u001b[0;34m:\u001b[0m\u001b[0;34m\u001b[0m\u001b[0;34m\u001b[0m\u001b[0m\n\u001b[1;32m    320\u001b[0m             \u001b[0mextensions\u001b[0m \u001b[0;34m=\u001b[0m \u001b[0mself\u001b[0m\u001b[0;34m.\u001b[0m\u001b[0m_cythonize\u001b[0m\u001b[0;34m(\u001b[0m\u001b[0mmodule_name\u001b[0m\u001b[0;34m,\u001b[0m \u001b[0mcode\u001b[0m\u001b[0;34m,\u001b[0m \u001b[0mlib_dir\u001b[0m\u001b[0;34m,\u001b[0m \u001b[0margs\u001b[0m\u001b[0;34m,\u001b[0m \u001b[0mquiet\u001b[0m\u001b[0;34m=\u001b[0m\u001b[0margs\u001b[0m\u001b[0;34m.\u001b[0m\u001b[0mquiet\u001b[0m\u001b[0;34m)\u001b[0m\u001b[0;34m\u001b[0m\u001b[0;34m\u001b[0m\u001b[0m\n\u001b[0;32m--> 321\u001b[0;31m             \u001b[0;32massert\u001b[0m \u001b[0mlen\u001b[0m\u001b[0;34m(\u001b[0m\u001b[0mextensions\u001b[0m\u001b[0;34m)\u001b[0m \u001b[0;34m==\u001b[0m \u001b[0;36m1\u001b[0m\u001b[0;34m\u001b[0m\u001b[0;34m\u001b[0m\u001b[0m\n\u001b[0m\u001b[1;32m    322\u001b[0m             \u001b[0mextension\u001b[0m \u001b[0;34m=\u001b[0m \u001b[0mextensions\u001b[0m\u001b[0;34m[\u001b[0m\u001b[0;36m0\u001b[0m\u001b[0;34m]\u001b[0m\u001b[0;34m\u001b[0m\u001b[0;34m\u001b[0m\u001b[0m\n\u001b[1;32m    323\u001b[0m             \u001b[0mself\u001b[0m\u001b[0;34m.\u001b[0m\u001b[0m_code_cache\u001b[0m\u001b[0;34m[\u001b[0m\u001b[0mkey\u001b[0m\u001b[0;34m]\u001b[0m \u001b[0;34m=\u001b[0m \u001b[0mmodule_name\u001b[0m\u001b[0;34m\u001b[0m\u001b[0;34m\u001b[0m\u001b[0m\n",
      "\u001b[0;31mTypeError\u001b[0m: object of type 'NoneType' has no len()"
     ]
    }
   ],
   "source": [
    "%%cython --cplus --compile-args=-fopenmp --link-args=-fopenmp\n",
    "\n",
    "from cython.parallel import prange#, Py_size_t\n",
    "from cython.operator import postincrement as postIncr\n",
    "import numpy as np\n",
    "cimport numpy as np\n",
    "from gp_likelihood import GaussianProcesses as GP\n",
    "from gp_likelihood import min_GaussianProcesses as mGP\n",
    "from gp_likelihood import rec_GaussianProcesses as rGP\n",
    "from gp_likelihood import rec_extern_GaussianProcesses as rexGP\n",
    "from multiprocessing import Pool as Pool, cpu_count\n",
    "\n",
    "cpdef double[:] get_hyper_pars(double[:] X, double[:] Y, double[:,:] Cov):\n",
    "    gpY = mGP(X,Y,Cov)\n",
    "    res = gpY.min_loglikelihood()\n",
    "    print(res)\n",
    "    return res.x\n",
    "\n",
    "cpdef double[:] rec_int_dzdmu(double[:] z, double[:] X, double[:] Y, double[:,:] Cov,\n",
    "                               double sigf, double lenf):\n",
    "    cdef int n, i\n",
    "    #cdef Py_size_t j\n",
    "    cdef double[:] rec\n",
    "    \n",
    "    n = z.shape[0]\n",
    "    rec = np.zeros(n)\n",
    "    gp = rexGP(X,Y,Cov,sigf,lenf)\n",
    "    \n",
    "    for i in range(n):\n",
    "        rec[i] = gp.integrate_one_over_mu(z[i])\n",
    "    return rec\n",
    "\n",
    "cpdef rec_int_dzdmu_p(double[:] z, double[:] rec, double[:] X, double[:] Y, double[:,:] Cov,\n",
    "                               double sigf, double lenf):\n",
    "    cdef int n\n",
    "    cdef Py_ssize_t i\n",
    "    \n",
    "    gp = rexGP(X,Y,Cov,sigf,lenf)\n",
    "    \n",
    "    for i in prange(n, nogil=True):\n",
    "        rec[i] = gp.integrate_one_over_mu(z[i])\n",
    "    return\n",
    "\n",
    "#def process_rec_int(zi, gp):\n",
    "#    return gp.integrate_one_over_mu(zi)\n",
    "\n",
    "#def rec_int_dzdm_pool(double[:] z, double[:] X, double[:] Y, double[:,:] Cov,\n",
    "#                               double sigf, double lenf):\n",
    "#    cdef int cores, i, j, n\n",
    "#    cdef list p_list\n",
    "#    \n",
    "#    cores = cpu_count()\n",
    "#    pool = Pool(cores)\n",
    "#    n = z.shape[0]\n",
    "#    gp = rexGP(X,Y,Cov,sigf,lenf)\n",
    "#    \n",
    "#    p_list = []\n",
    "#    for i in range(n):\n",
    "#        pp = pool.apply_async(process_rec_int, args=(z[i], gp))\n",
    "#        p_list.append(pp)\n",
    "#    result = [pp.get() for pp in p_list]\n",
    "#    pool.close()\n",
    "#    pool.join()\n",
    "#    return result"
   ]
  },
  {
   "cell_type": "code",
   "execution_count": 5,
   "metadata": {},
   "outputs": [
    {
     "name": "stdout",
     "output_type": "stream",
     "text": [
      "~~~~~~~~~~~~~~~~~~~~~~~~~~~~~~\n",
      "CPU times: user 1.16 s, sys: 123 ms, total: 1.28 s\n",
      "Wall time: 168 ms\n",
      "      fun: 132.19245072113145\n",
      " hess_inv: <2x2 LbfgsInvHessProduct with dtype=float64>\n",
      "      jac: array([-8.52651283e-06, -1.70530257e-05])\n",
      "  message: b'CONVERGENCE: REL_REDUCTION_OF_F_<=_FACTR*EPSMCH'\n",
      "     nfev: 66\n",
      "      nit: 20\n",
      "   status: 0\n",
      "  success: True\n",
      "        x: array([133.80863893,   1.93610328])\n",
      "~~~~~~~~~~~~~~~~~~~~~~~~~~~~~~\n",
      "      fun: 132.19245072113145\n",
      " hess_inv: <2x2 LbfgsInvHessProduct with dtype=float64>\n",
      "      jac: array([-8.52651283e-06, -1.70530257e-05])\n",
      "  message: b'CONVERGENCE: REL_REDUCTION_OF_F_<=_FACTR*EPSMCH'\n",
      "     nfev: 66\n",
      "      nit: 20\n",
      "   status: 0\n",
      "  success: True\n",
      "        x: array([133.80863893,   1.93610328])\n",
      "CPU times: user 1.21 s, sys: 105 ms, total: 1.32 s\n",
      "Wall time: 165 ms\n"
     ]
    }
   ],
   "source": [
    "#~~~~~~~~~~~~~~~~~~~~~~~~~~~~~~~~~~~~~~~~~~~~~~\n",
    "#rec_dat = np.loadtxt('/home/ekli/myworks/cosmodata/Growth_tableII.txt', unpack=True)\n",
    "rec_dat = np.loadtxt('/home/ekli/myworks/cosmodata/CC_31.txt', unpack=True)\n",
    "X = rec_dat[0]\n",
    "Y = rec_dat[1]\n",
    "err = rec_dat[2]\n",
    "cov = np.eye(len(err))*err**2\n",
    "\n",
    "gpY = mGP(X,Y,cov)\n",
    "\n",
    "print('~'*30)\n",
    "%time res = gpY.min_loglikelihood()\n",
    "print(res)\n",
    "#print(res.x)\n",
    "\n",
    "print('~'*30)\n",
    "\n",
    "%time theta = get_hyper_pars(X,Y,cov)"
   ]
  },
  {
   "cell_type": "code",
   "execution_count": 14,
   "metadata": {
    "scrolled": true
   },
   "outputs": [
    {
     "name": "stdout",
     "output_type": "stream",
     "text": [
      "The start time is: Fri May  3 21:11:02 2019\n",
      "CPU times: user 825 ms, sys: 71.8 ms, total: 897 ms\n",
      "Wall time: 112 ms\n",
      "CPU times: user 849 ms, sys: 69.8 ms, total: 919 ms\n",
      "Wall time: 115 ms\n"
     ]
    }
   ],
   "source": [
    "#~~~~~~~~~~~~~~~~~~~~~~~~~~~~~~~~~~~~~~~~~\n",
    "# reconst \\int_0^x 1/mu(x) dx\n",
    "\n",
    "sigf, lenf = res.x\n",
    "gp = rexGP(X,Y,cov,sigf,lenf)\n",
    "\n",
    "z = np.linspace(0,2,41)\n",
    "\n",
    "#@@@@@@@@@@@@@@@@@@@@@@@@@@@@@@@@@@@@@@@@@@@@\n",
    "print('The start time is: %s'%time.asctime())\n",
    "s_time = time.perf_counter()\n",
    "#>>>>>>>>>>>>>>>>>>>>>>>>>>>>>>>>>>>>>>>>>>>>\n",
    "\n",
    "%time rec_int1 = np.array([gp.integrate_one_over_mu(zi,0.0) for zi in z])\n",
    "%time rec_int2 = rec_int_dzdmu(z,X,Y,cov,sigf,lenf)\n",
    "#%time rec_int3 = rec_int_dzdm_pool(z,X,Y,cov,sigf,lenf)"
   ]
  },
  {
   "cell_type": "code",
   "execution_count": 2,
   "metadata": {
    "scrolled": false
   },
   "outputs": [
    {
     "name": "stdout",
     "output_type": "stream",
     "text": [
      "      fun: 132.19245072113145\n",
      " hess_inv: <2x2 LbfgsInvHessProduct with dtype=float64>\n",
      "      jac: array([-8.52651283e-06, -1.70530257e-05])\n",
      "  message: b'CONVERGENCE: REL_REDUCTION_OF_F_<=_FACTR*EPSMCH'\n",
      "     nfev: 66\n",
      "      nit: 20\n",
      "   status: 0\n",
      "  success: True\n",
      "        x: array([133.80863893,   1.93610328])\n",
      "[133.80863893   1.93610328]\n",
      "The start time is: Fri May  3 20:16:39 2019\n",
      "Using time 8.101997204998042 s\n",
      "The start time is: Fri May  3 20:16:47 2019\n",
      "Using time 8.160254414993688 s\n",
      "The start time is: Fri May  3 20:16:55 2019\n",
      "Using time 13.63712781999493 s\n"
     ]
    },
    {
     "data": {
      "image/png": "[encoded data removed]",
      "text/plain": [
       "<Figure size 432x288 with 1 Axes>"
      ]
     },
     "metadata": {
      "needs_background": "light"
     },
     "output_type": "display_data"
    }
   ],
   "source": [
    "\n",
    "sig_int_dzdmu = np.array([gp.Cov_integrate_one_over_mu(zi,zi,0) for zi in z])\n",
    "\n",
    "#<<<<<<<<<<<<<<<<<<<<<<<<<<<<<<<<<<<<<<<<<<<<\n",
    "e_time = time.perf_counter()\n",
    "print('Using time %s s'%(e_time - s_time))\n",
    "#@@@@@@@@@@@@@@@@@@@@@@@@@@@@@@@@@@@@@@@@@@@@\n",
    "\n",
    "#@@@@@@@@@@@@@@@@@@@@@@@@@@@@@@@@@@@@@@@@@@@@\n",
    "print('The start time is: %s'%time.asctime())\n",
    "s_time = time.perf_counter()\n",
    "#>>>>>>>>>>>>>>>>>>>>>>>>>>>>>>>>>>>>>>>>>>>>\n",
    "\n",
    "rec_int_dzdmu1 = np.array([gp.integrate_f_mu_x(zi,0.0,-1,0) for zi in z])\n",
    "sig_int_dzdmu1 = np.array([gp.Cov_integrate_f_mu_x(zi,zi,0,-1,0) for zi in z])\n",
    "\n",
    "#<<<<<<<<<<<<<<<<<<<<<<<<<<<<<<<<<<<<<<<<<<<<\n",
    "e_time = time.perf_counter()\n",
    "print('Using time %s s'%(e_time - s_time))\n",
    "#@@@@@@@@@@@@@@@@@@@@@@@@@@@@@@@@@@@@@@@@@@@@\n",
    "\n",
    "#@@@@@@@@@@@@@@@@@@@@@@@@@@@@@@@@@@@@@@@@@@@@\n",
    "print('The start time is: %s'%time.asctime())\n",
    "s_time = time.perf_counter()\n",
    "#>>>>>>>>>>>>>>>>>>>>>>>>>>>>>>>>>>>>>>>>>>>>\n",
    "Afunc = lambda x: 1.0\n",
    "Bfunc = lambda x: 1.0\n",
    "bet = 0.0\n",
    "alp = -1.0\n",
    "\n",
    "rec1 = np.array([gp.integrate_f_pq_x(Afunc,Bfunc,zi,0.0,alp,bet) for zi in z])\n",
    "sigsq1 = np.array([gp.Cov_integrate_f_pq_x(Afunc,Bfunc,zi,zi,0.0,alp,bet) for zi in z])\n",
    "#<<<<<<<<<<<<<<<<<<<<<<<<<<<<<<<<<<<<<<<<<<<<\n",
    "e_time = time.perf_counter()\n",
    "print('Using time %s s'%(e_time - s_time))\n",
    "#@@@@@@@@@@@@@@@@@@@@@@@@@@@@@@@@@@@@@@@@@@@@\n",
    "\n",
    "ff = rec_int_dzdmu*300\n",
    "sig = np.sqrt(sig_int_dzdmu)*300\n",
    "\n",
    "ff1 = rec_int_dzdmu1*300\n",
    "sig1 = np.sqrt(sig_int_dzdmu1)*300\n",
    "\n",
    "plt.figure()\n",
    "\n",
    "plt.plot(z, ff, '--r')\n",
    "plt.fill_between(z, ff+sig, ff-sig, color='red', alpha=0.5)\n",
    "\n",
    "plt.plot(z, ff1, ':b')\n",
    "plt.fill_between(z, ff1+sig1, ff1-sig1, color='blue', alpha=0.5)\n",
    "\n",
    "ff = rec1*300\n",
    "sig = np.sqrt(sigsq1)*300\n",
    "\n",
    "plt.plot(z, ff, '--g')\n",
    "plt.fill_between(z, ff+sig, ff-sig, color='green', alpha=0.5)\n",
    "\n",
    "plt.show()"
   ]
  },
  {
   "cell_type": "code",
   "execution_count": 25,
   "metadata": {},
   "outputs": [
    {
     "name": "stdout",
     "output_type": "stream",
     "text": [
      "Help on method prange in module Cython.Shadow:\n",
      "\n",
      "prange(start=0, stop=None, step=1, schedule=None, nogil=False) method of Cython.Shadow.CythonDotParallel instance\n",
      "\n"
     ]
    }
   ],
   "source": [
    "import cython.parallel as multi\n",
    "help(multi.prange)"
   ]
  },
  {
   "cell_type": "code",
   "execution_count": 19,
   "metadata": {},
   "outputs": [],
   "source": [
    "def pend(y, t, b, c):\n",
    "    theta, omega = y\n",
    "    dydt = [omega, -b*omega - c*np.sin(theta)]\n",
    "    return dydt\n",
    "    "
   ]
  },
  {
   "cell_type": "code",
   "execution_count": 21,
   "metadata": {},
   "outputs": [],
   "source": [
    "b = 0.25\n",
    "c = 5.0\n",
    "t = np.linspace(0, 10, 101)\n",
    "y0 = [np.pi - 0.1, 0.0]\n",
    "sol = integrate.odeint(pend, y0, t, args=(b, c))"
   ]
  },
  {
   "cell_type": "code",
   "execution_count": 22,
   "metadata": {},
   "outputs": [
    {
     "data": {
      "image/png": "[encoded data removed]",
      "text/plain": [
       "<Figure size 432x288 with 1 Axes>"
      ]
     },
     "metadata": {
      "needs_background": "light"
     },
     "output_type": "display_data"
    }
   ],
   "source": [
    "plt.plot(t, sol[:, 0], 'b', label='theta(t)')\n",
    "plt.plot(t, sol[:, 1], 'g', label='omega(t)')\n",
    "plt.legend(loc='best')\n",
    "plt.xlabel('t')\n",
    "plt.grid()\n",
    "plt.show()"
   ]
  },
  {
   "cell_type": "code",
   "execution_count": 79,
   "metadata": {},
   "outputs": [],
   "source": [
    "class general_dark:\n",
    "    def __init__(self,omc,omv,wx,xic,xix):\n",
    "        self.omc = omc\n",
    "        self.omv = omv\n",
    "        self.wx=wx\n",
    "        self.xic=xic\n",
    "        self.xix=xix\n",
    "        return\n",
    "    \n",
    "    def xi(self,rc,rx):\n",
    "        return self.xic *self.omc *rc +self.xix*self.omv*rx\n",
    "    \n",
    "    def derive(self,y0,x):\n",
    "        yp = np.zeros(len(y0))\n",
    "        rc = np.exp(y0[0])\n",
    "        rx = np.exp(y0[1])\n",
    "        yp[0] = -3 - 3*self.xi(rc,rx)/self.omc /rc\n",
    "        yp[1] = -3*(1+self.wx)+3*self.xi(rc,rx)/self.omv /rx\n",
    "        return yp\n",
    "    \n",
    "    def derive_z(self,y,z):\n",
    "        yp = np.zeros(len(y0))\n",
    "        yp[0] = 3 *y[0] + 3*self.xi(y[0],y[1])/self.omc\n",
    "        yp[1] = 3*(1+self.wx)*y[0] -3*self.xi(y[0],y[1])/self.omv\n",
    "        return yp/(1+z)\n",
    "    \n",
    "    def derive_lz(self,y,z):\n",
    "        yp = np.zeros(len(y0))\n",
    "        rc = np.exp(y0[0])\n",
    "        rx = np.exp(y0[1])\n",
    "        yp[0] = 3 *y[0] + 3*self.xi(rc,rx)/self.omc/rc\n",
    "        yp[1] = 3*(1+self.wx)*y[0] -3*self.xi(rc,rx)/self.omv/rx\n",
    "        return yp/(1+z)\n",
    "    \n",
    "    def derive_nx(self,y0,x):\n",
    "        yp = np.zeros(len(y0))\n",
    "        rc = np.exp(y0[0])\n",
    "        rx = np.exp(y0[1])\n",
    "        yp[0] = 3 + 3*self.xi(rc,rx)/self.omc /rc\n",
    "        yp[1] = 3*(1+self.wx) -3*self.xi(rc,rx)/self.omv /rx\n",
    "        return yp\n",
    "     \n",
    "    def E2ofx(self,rc,rx):\n",
    "        return self.omc*rc + self.omv*rx"
   ]
  },
  {
   "cell_type": "code",
   "execution_count": 80,
   "metadata": {},
   "outputs": [],
   "source": [
    "omc,omv,wx,xic,xix = np.array([0.3,0.7,-1.1,0.0,0.0])\n",
    "\n",
    "x = np.linspace(-7.7,0,101)\n",
    "y0 = [-3*x[0],-3*(1+wx)*x[0]]\n",
    "\n",
    "dk = general_dark(omc,omv,wx,xic,xix)\n",
    "\n",
    "sol = integrate.odeint(dk.derive, y0, x)\n",
    "\n",
    "y0 = [1.0,1.0]\n",
    "z = np.sort(np.exp(-x)-1)\n",
    "solz = integrate.odeint(dk.derive_z, y0, z)\n",
    "\n",
    "y0 = [0.0,0.0]\n",
    "z = np.sort(np.exp(-x)-1)\n",
    "sollz = integrate.odeint(dk.derive_lz, y0, z)\n",
    "\n",
    "y0 = [1.0,1.0]\n",
    "nx = np.linspace(0,7.7,101)\n",
    "soln = integrate.odeint(dk.derive_nx, y0, nx)"
   ]
  },
  {
   "cell_type": "code",
   "execution_count": 81,
   "metadata": {},
   "outputs": [
    {
     "data": {
      "text/plain": [
       "[<matplotlib.lines.Line2D at 0x7f3845fa4588>]"
      ]
     },
     "execution_count": 81,
     "metadata": {},
     "output_type": "execute_result"
    },
    {
     "data": {
      "image/png": "[encoded data removed]",
      "text/plain": [
       "<Figure size 432x288 with 1 Axes>"
      ]
     },
     "metadata": {
      "needs_background": "light"
     },
     "output_type": "display_data"
    }
   ],
   "source": [
    "plt.plot(x, np.exp(sol.T[0]))\n",
    "plt.plot(x, np.exp(sol.T[1]))"
   ]
  },
  {
   "cell_type": "code",
   "execution_count": 82,
   "metadata": {},
   "outputs": [
    {
     "data": {
      "text/plain": [
       "[<matplotlib.lines.Line2D at 0x7f3845eef780>]"
      ]
     },
     "execution_count": 82,
     "metadata": {},
     "output_type": "execute_result"
    },
    {
     "data": {
      "image/png": "[encoded data removed]",
      "text/plain": [
       "<Figure size 432x288 with 1 Axes>"
      ]
     },
     "metadata": {
      "needs_background": "light"
     },
     "output_type": "display_data"
    }
   ],
   "source": [
    "plt.plot(z, solz.T[0], 'r')\n",
    "plt.plot(z, solz.T[1], 'g')\n"
   ]
  },
  {
   "cell_type": "code",
   "execution_count": 83,
   "metadata": {},
   "outputs": [
    {
     "data": {
      "text/plain": [
       "[<matplotlib.lines.Line2D at 0x7f3845ea3d68>]"
      ]
     },
     "execution_count": 83,
     "metadata": {},
     "output_type": "execute_result"
    },
    {
     "data": {
      "image/png": "[encoded data removed]",
      "text/plain": [
       "<Figure size 432x288 with 1 Axes>"
      ]
     },
     "metadata": {
      "needs_background": "light"
     },
     "output_type": "display_data"
    }
   ],
   "source": [
    "plt.plot(z, sollz.T[0], 'r')\n",
    "plt.plot(z, sollz.T[1], 'g')"
   ]
  },
  {
   "cell_type": "code",
   "execution_count": 75,
   "metadata": {},
   "outputs": [
    {
     "data": {
      "text/plain": [
       "[<matplotlib.lines.Line2D at 0x7f3846261860>]"
      ]
     },
     "execution_count": 75,
     "metadata": {},
     "output_type": "execute_result"
    },
    {
     "data": {
      "image/png": "[encoded data removed]",
      "text/plain": [
       "<Figure size 432x288 with 1 Axes>"
      ]
     },
     "metadata": {
      "needs_background": "light"
     },
     "output_type": "display_data"
    }
   ],
   "source": [
    "plt.plot(-nx, np.exp(soln.T[0]))\n",
    "plt.plot(-nx, np.exp(soln.T[1]))"
   ]
  },
  {
   "cell_type": "code",
   "execution_count": 76,
   "metadata": {},
   "outputs": [
    {
     "data": {
      "image/png": "[encoded data removed]",
      "text/plain": [
       "<Figure size 432x288 with 1 Axes>"
      ]
     },
     "metadata": {
      "needs_background": "light"
     },
     "output_type": "display_data"
    }
   ],
   "source": [
    "plt.plot(dk.E2ofx(np.exp(sol.T[0]),np.exp(sol.T[1])))\n",
    "plt.xscale('log')\n",
    "plt.yscale('log')"
   ]
  },
  {
   "cell_type": "code",
   "execution_count": 77,
   "metadata": {},
   "outputs": [
    {
     "data": {
      "image/png": "[encoded data removed]",
      "text/plain": [
       "<Figure size 432x288 with 1 Axes>"
      ]
     },
     "metadata": {
      "needs_background": "light"
     },
     "output_type": "display_data"
    }
   ],
   "source": [
    "plt.plot(dk.E2ofx(solz.T[0],solz.T[1]))\n",
    "plt.xscale('log')\n",
    "plt.yscale('log')"
   ]
  },
  {
   "cell_type": "code",
   "execution_count": 193,
   "metadata": {},
   "outputs": [],
   "source": [
    "omm = 0.3\n",
    "omx = 0.7\n",
    "w = -1.2\n",
    "xic = 0.01\n",
    "xix = 0.0\n",
    "xi = 0.1\n",
    "\n",
    "ff = lambda y,z: 3*y/(1+z)\n",
    "ffx = lambda y,z: 3*(1+w)*y/(1+z)\n",
    "\n",
    "def ffs(y,z):\n",
    "    ypc = 3*y[0]/(1+z)\n",
    "    ypx = 3*(1+w)*y[1]/(1+z)\n",
    "    return np.array([ypc,ypx])\n",
    "\n",
    "def ffs_in(y,z):\n",
    "    ypc = 3*y[0]/(1+z) +3*(xic*omm*y[0]+xix*omx*y[1])/omm/(1+z)\n",
    "    ypx = 3*(1+w)*y[1]/(1+z)-3*(xic*omm*y[0]+xix*omx*y[1])/omx/(1+z)\n",
    "    return np.array([ypc,ypx])\n",
    "\n",
    "def ffs_in(y,z):\n",
    "    ypc = 3*y[0]/(1+z) +3*(xic*omm*y[0]+xix*omx*y[1])/omm/(1+z)\n",
    "    ypx = 3*(1+w)*y[1]/(1+z)-3*(xic*omm*y[0]+xix*omx*y[1])/omx/(1+z)\n",
    "    return np.array([ypc,ypx])\n",
    "\n",
    "def ffs_new(y,z):\n",
    "    flu = 3*xi *y[1]/y[0] *(omm*y[0]+omx*y[1])\n",
    "    ypc = 3*y[0]/(1+z) +flu/omm/(1+z)\n",
    "    ypx = 3*(1+w)*y[1]/(1+z)-flu/omx/(1+z)\n",
    "    return np.array([ypc,ypx])\n",
    "\n",
    "x = np.linspace(-7.7,0.,101)\n",
    "z = np.sort(np.exp(-x)-1)\n",
    "\n",
    "y0 = 1\n",
    "sol = integrate.odeint(ff, y0, z)\n",
    "solx = integrate.odeint(ffx, y0, z)\n",
    "\n",
    "y0s = [1,1]\n",
    "sols = integrate.odeint(ffs, y0s, z)\n",
    "\n",
    "y0s = [1,1]\n",
    "sols_in = integrate.odeint(ffs_in, y0s, z)\n",
    "\n",
    "y0s = [1,1]\n",
    "sols_new = integrate.odeint(ffs_new, y0s, z)"
   ]
  },
  {
   "cell_type": "code",
   "execution_count": 205,
   "metadata": {},
   "outputs": [
    {
     "data": {
      "text/plain": [
       "<matplotlib.legend.Legend at 0x7f3844456ac8>"
      ]
     },
     "execution_count": 205,
     "metadata": {},
     "output_type": "execute_result"
    },
    {
     "data": {
      "image/png": "[encoded data removed]",
      "text/plain": [
       "<Figure size 432x288 with 1 Axes>"
      ]
     },
     "metadata": {
      "needs_background": "light"
     },
     "output_type": "display_data"
    },
    {
     "data": {
      "image/png": "[encoded data removed]",
      "text/plain": [
       "<Figure size 432x288 with 1 Axes>"
      ]
     },
     "metadata": {
      "needs_background": "light"
     },
     "output_type": "display_data"
    }
   ],
   "source": [
    "plt.figure()\n",
    "\n",
    "plt.plot(1+z, sol, 'r-.')\n",
    "plt.plot(1+z, sols.T[0], '--g')\n",
    "plt.plot(1+z, sols_in.T[0], '--b')\n",
    "\n",
    "plt.plot(1+z, sols_new.T[0], '.-b')\n",
    "\n",
    "plt.plot(1+z, (1+z)**3, ':k')\n",
    "plt.plot(1+z, (1+z)**(3*(1+xic)), ':r')\n",
    "\n",
    "plt.figure()\n",
    "plt.plot(1+z, sol, 'r-.')\n",
    "plt.plot(1+z, sols.T[0], '--g')\n",
    "plt.plot(1+z, sols_in.T[0], '--b')\n",
    "\n",
    "plt.plot(1+z, sols_new.T[0], '.-b')\n",
    "\n",
    "plt.plot(1+z, (1+z)**3, ':k')\n",
    "plt.plot(1+z, (1+z)**(3*(1+xic)), ':r')\n",
    "\n",
    "plt.xlim(1+z[0],z[20])\n",
    "plt.ylim(0, 60)\n",
    "#plt.xscale('log')\n",
    "\n",
    "plt.legend(loc='best', labels=['indep', 'all in one', 'diff', 'new'])\n"
   ]
  },
  {
   "cell_type": "code",
   "execution_count": 203,
   "metadata": {},
   "outputs": [
    {
     "name": "stdout",
     "output_type": "stream",
     "text": [
      "Help on function legend in module matplotlib.pyplot:\n",
      "\n",
      "legend(*args, **kwargs)\n",
      "    Places a legend on the axes.\n",
      "    \n",
      "    Call signatures::\n",
      "    \n",
      "        legend()\n",
      "        legend(labels)\n",
      "        legend(handles, labels)\n",
      "    \n",
      "    The call signatures correspond to three different ways how to use\n",
      "    this method.\n",
      "    \n",
      "    **1. Automatic detection of elements to be shown in the legend**\n",
      "    \n",
      "    The elements to be added to the legend are automatically determined,\n",
      "    when you do not pass in any extra arguments.\n",
      "    \n",
      "    In this case, the labels are taken from the artist. You can specify\n",
      "    them either at artist creation or by calling the\n",
      "    :meth:`~.Artist.set_label` method on the artist::\n",
      "    \n",
      "        line, = ax.plot([1, 2, 3], label='Inline label')\n",
      "        ax.legend()\n",
      "    \n",
      "    or::\n",
      "    \n",
      "        line.set_label('Label via method')\n",
      "        line, = ax.plot([1, 2, 3])\n",
      "        ax.legend()\n",
      "    \n",
      "    Specific lines can be excluded from the automatic legend element\n",
      "    selection by defining a label starting with an underscore.\n",
      "    This is default for all artists, so calling `Axes.legend` without\n",
      "    any arguments and without setting the labels manually will result in\n",
      "    no legend being drawn.\n",
      "    \n",
      "    \n",
      "    **2. Labeling existing plot elements**\n",
      "    \n",
      "    To make a legend for lines which already exist on the axes\n",
      "    (via plot for instance), simply call this function with an iterable\n",
      "    of strings, one for each legend item. For example::\n",
      "    \n",
      "        ax.plot([1, 2, 3])\n",
      "        ax.legend(['A simple line'])\n",
      "    \n",
      "    Note: This way of using is discouraged, because the relation between\n",
      "    plot elements and labels is only implicit by their order and can\n",
      "    easily be mixed up.\n",
      "    \n",
      "    \n",
      "    **3. Explicitly defining the elements in the legend**\n",
      "    \n",
      "    For full control of which artists have a legend entry, it is possible\n",
      "    to pass an iterable of legend artists followed by an iterable of\n",
      "    legend labels respectively::\n",
      "    \n",
      "        legend((line1, line2, line3), ('label1', 'label2', 'label3'))\n",
      "    \n",
      "    Parameters\n",
      "    ----------\n",
      "    \n",
      "    handles : sequence of `.Artist`, optional\n",
      "        A list of Artists (lines, patches) to be added to the legend.\n",
      "        Use this together with *labels*, if you need full control on what\n",
      "        is shown in the legend and the automatic mechanism described above\n",
      "        is not sufficient.\n",
      "    \n",
      "        The length of handles and labels should be the same in this\n",
      "        case. If they are not, they are truncated to the smaller length.\n",
      "    \n",
      "    labels : sequence of strings, optional\n",
      "        A list of labels to show next to the artists.\n",
      "        Use this together with *handles*, if you need full control on what\n",
      "        is shown in the legend and the automatic mechanism described above\n",
      "        is not sufficient.\n",
      "    \n",
      "    Other Parameters\n",
      "    ----------------\n",
      "    \n",
      "    loc : int or string or pair of floats, default: 'upper right'\n",
      "        The location of the legend. Possible codes are:\n",
      "    \n",
      "            ===============   =============\n",
      "            Location String   Location Code\n",
      "            ===============   =============\n",
      "            'best'            0\n",
      "            'upper right'     1\n",
      "            'upper left'      2\n",
      "            'lower left'      3\n",
      "            'lower right'     4\n",
      "            'right'           5\n",
      "            'center left'     6\n",
      "            'center right'    7\n",
      "            'lower center'    8\n",
      "            'upper center'    9\n",
      "            'center'          10\n",
      "            ===============   =============\n",
      "    \n",
      "    \n",
      "        Alternatively can be a 2-tuple giving ``x, y`` of the lower-left\n",
      "        corner of the legend in axes coordinates (in which case\n",
      "        ``bbox_to_anchor`` will be ignored).\n",
      "    \n",
      "    bbox_to_anchor : `.BboxBase` or pair of floats\n",
      "        Specify any arbitrary location for the legend in `bbox_transform`\n",
      "        coordinates (default Axes coordinates).\n",
      "    \n",
      "        For example, to put the legend's upper right hand corner in the\n",
      "        center of the axes the following keywords can be used::\n",
      "    \n",
      "           loc='upper right', bbox_to_anchor=(0.5, 0.5)\n",
      "    \n",
      "    ncol : integer\n",
      "        The number of columns that the legend has. Default is 1.\n",
      "    \n",
      "    prop : None or :class:`matplotlib.font_manager.FontProperties` or dict\n",
      "        The font properties of the legend. If None (default), the current\n",
      "        :data:`matplotlib.rcParams` will be used.\n",
      "    \n",
      "    fontsize : int or float or {'xx-small', 'x-small', 'small', 'medium', 'large', 'x-large', 'xx-large'}\n",
      "        Controls the font size of the legend. If the value is numeric the\n",
      "        size will be the absolute font size in points. String values are\n",
      "        relative to the current default font size. This argument is only\n",
      "        used if `prop` is not specified.\n",
      "    \n",
      "    numpoints : None or int\n",
      "        The number of marker points in the legend when creating a legend\n",
      "        entry for a `.Line2D` (line).\n",
      "        Default is ``None``, which will take the value from\n",
      "        :rc:`legend.numpoints`.\n",
      "    \n",
      "    scatterpoints : None or int\n",
      "        The number of marker points in the legend when creating\n",
      "        a legend entry for a `.PathCollection` (scatter plot).\n",
      "        Default is ``None``, which will take the value from\n",
      "        :rc:`legend.scatterpoints`.\n",
      "    \n",
      "    scatteryoffsets : iterable of floats\n",
      "        The vertical offset (relative to the font size) for the markers\n",
      "        created for a scatter plot legend entry. 0.0 is at the base the\n",
      "        legend text, and 1.0 is at the top. To draw all markers at the\n",
      "        same height, set to ``[0.5]``. Default is ``[0.375, 0.5, 0.3125]``.\n",
      "    \n",
      "    markerscale : None or int or float\n",
      "        The relative size of legend markers compared with the originally\n",
      "        drawn ones.\n",
      "        Default is ``None``, which will take the value from\n",
      "        :rc:`legend.markerscale`.\n",
      "    \n",
      "    markerfirst : bool\n",
      "        If *True*, legend marker is placed to the left of the legend label.\n",
      "        If *False*, legend marker is placed to the right of the legend\n",
      "        label.\n",
      "        Default is *True*.\n",
      "    \n",
      "    frameon : None or bool\n",
      "        Control whether the legend should be drawn on a patch\n",
      "        (frame).\n",
      "        Default is ``None``, which will take the value from\n",
      "        :rc:`legend.frameon`.\n",
      "    \n",
      "    fancybox : None or bool\n",
      "        Control whether round edges should be enabled around the\n",
      "        :class:`~matplotlib.patches.FancyBboxPatch` which makes up the\n",
      "        legend's background.\n",
      "        Default is ``None``, which will take the value from\n",
      "        :rc:`legend.fancybox`.\n",
      "    \n",
      "    shadow : None or bool\n",
      "        Control whether to draw a shadow behind the legend.\n",
      "        Default is ``None``, which will take the value from\n",
      "        :rc:`legend.shadow`.\n",
      "    \n",
      "    framealpha : None or float\n",
      "        Control the alpha transparency of the legend's background.\n",
      "        Default is ``None``, which will take the value from\n",
      "        :rc:`legend.framealpha`.  If shadow is activated and\n",
      "        *framealpha* is ``None``, the default value is ignored.\n",
      "    \n",
      "    facecolor : None or \"inherit\" or a color spec\n",
      "        Control the legend's background color.\n",
      "        Default is ``None``, which will take the value from\n",
      "        :rc:`legend.facecolor`.  If ``\"inherit\"``, it will take\n",
      "        :rc:`axes.facecolor`.\n",
      "    \n",
      "    edgecolor : None or \"inherit\" or a color spec\n",
      "        Control the legend's background patch edge color.\n",
      "        Default is ``None``, which will take the value from\n",
      "        :rc:`legend.edgecolor` If ``\"inherit\"``, it will take\n",
      "        :rc:`axes.edgecolor`.\n",
      "    \n",
      "    mode : {\"expand\", None}\n",
      "        If `mode` is set to ``\"expand\"`` the legend will be horizontally\n",
      "        expanded to fill the axes area (or `bbox_to_anchor` if defines\n",
      "        the legend's size).\n",
      "    \n",
      "    bbox_transform : None or :class:`matplotlib.transforms.Transform`\n",
      "        The transform for the bounding box (`bbox_to_anchor`). For a value\n",
      "        of ``None`` (default) the Axes'\n",
      "        :data:`~matplotlib.axes.Axes.transAxes` transform will be used.\n",
      "    \n",
      "    title : str or None\n",
      "        The legend's title. Default is no title (``None``).\n",
      "    \n",
      "    borderpad : float or None\n",
      "        The fractional whitespace inside the legend border.\n",
      "        Measured in font-size units.\n",
      "        Default is ``None``, which will take the value from\n",
      "        :rc:`legend.borderpad`.\n",
      "    \n",
      "    labelspacing : float or None\n",
      "        The vertical space between the legend entries.\n",
      "        Measured in font-size units.\n",
      "        Default is ``None``, which will take the value from\n",
      "        :rc:`legend.labelspacing`.\n",
      "    \n",
      "    handlelength : float or None\n",
      "        The length of the legend handles.\n",
      "        Measured in font-size units.\n",
      "        Default is ``None``, which will take the value from\n",
      "        :rc:`legend.handlelength`.\n",
      "    \n",
      "    handletextpad : float or None\n",
      "        The pad between the legend handle and text.\n",
      "        Measured in font-size units.\n",
      "        Default is ``None``, which will take the value from\n",
      "        :rc:`legend.handletextpad`.\n",
      "    \n",
      "    borderaxespad : float or None\n",
      "        The pad between the axes and legend border.\n",
      "        Measured in font-size units.\n",
      "        Default is ``None``, which will take the value from\n",
      "        :rc:`legend.borderaxespad`.\n",
      "    \n",
      "    columnspacing : float or None\n",
      "        The spacing between columns.\n",
      "        Measured in font-size units.\n",
      "        Default is ``None``, which will take the value from\n",
      "        :rc:`legend.columnspacing`.\n",
      "    \n",
      "    handler_map : dict or None\n",
      "        The custom dictionary mapping instances or types to a legend\n",
      "        handler. This `handler_map` updates the default handler map\n",
      "        found at :func:`matplotlib.legend.Legend.get_legend_handler_map`.\n",
      "    \n",
      "    Returns\n",
      "    -------\n",
      "    \n",
      "    :class:`matplotlib.legend.Legend` instance\n",
      "    \n",
      "    Notes\n",
      "    -----\n",
      "    \n",
      "    Not all kinds of artist are supported by the legend command. See\n",
      "    :doc:`/tutorials/intermediate/legend_guide` for details.\n",
      "    \n",
      "    Examples\n",
      "    --------\n",
      "    \n",
      "    .. plot:: gallery/api/legend.py\n",
      "\n"
     ]
    }
   ],
   "source": [
    "help(plt.legend)"
   ]
  },
  {
   "cell_type": "code",
   "execution_count": 200,
   "metadata": {},
   "outputs": [
    {
     "data": {
      "text/plain": [
       "(-1, 1)"
      ]
     },
     "execution_count": 200,
     "metadata": {},
     "output_type": "execute_result"
    },
    {
     "data": {
      "image/png": "[encoded data removed]",
      "text/plain": [
       "<Figure size 432x288 with 1 Axes>"
      ]
     },
     "metadata": {
      "needs_background": "light"
     },
     "output_type": "display_data"
    },
    {
     "data": {
      "image/png": "[encoded data removed]",
      "text/plain": [
       "<Figure size 432x288 with 1 Axes>"
      ]
     },
     "metadata": {
      "needs_background": "light"
     },
     "output_type": "display_data"
    }
   ],
   "source": [
    "plt.figure()\n",
    "\n",
    "plt.plot(z, solx, 'r-.')\n",
    "plt.plot(z, sols.T[1], '--g')\n",
    "plt.plot(z, sols_in.T[1], '--b')\n",
    "plt.plot(z, sols_new.T[1], '.b')\n",
    "plt.plot(z, (1+z)**(3*(1+w)), ':k')\n",
    "plt.plot(z, (1+z)**(3*(1+w))+1/omx*3*xic/(3*xic+3*w)*omm*(1+z)**(3*(1+xic)), ':k')\n",
    "\n",
    "plt.figure()\n",
    "\n",
    "plt.plot(z, solx, 'r-.')\n",
    "plt.plot(z, sols.T[1], '--g')\n",
    "plt.plot(z, sols_in.T[1], '--b')\n",
    "plt.plot(z, sols_new.T[1], '.b')\n",
    "plt.plot(z, (1+z)**(3*(1+w)), ':k')\n",
    "plt.plot(z, (1+z)**(3*(1+w))+1/omx*3*xic/(3*xic+3*w)*omm*(1+z)**(3*(1+xic)), ':k')\n",
    "\n",
    "plt.xlim(1+z[0],z[20])\n",
    "plt.ylim(-1, 1)"
   ]
  },
  {
   "cell_type": "code",
   "execution_count": 196,
   "metadata": {},
   "outputs": [
    {
     "data": {
      "text/plain": [
       "(0, 20)"
      ]
     },
     "execution_count": 196,
     "metadata": {},
     "output_type": "execute_result"
    },
    {
     "data": {
      "image/png": "[encoded data removed]",
      "text/plain": [
       "<Figure size 432x288 with 1 Axes>"
      ]
     },
     "metadata": {
      "needs_background": "light"
     },
     "output_type": "display_data"
    }
   ],
   "source": [
    "plt.plot(z, solx, 'r-.')\n",
    "plt.plot(z, sols.T[1], '--g')\n",
    "plt.plot(z, sols_in.T[1], '--b')\n",
    "plt.plot(z, (1+z)**(3*(1+w)), ':k')\n",
    "\n",
    "plt.xlim(0,20)"
   ]
  },
  {
   "cell_type": "code",
   "execution_count": 207,
   "metadata": {},
   "outputs": [
    {
     "data": {
      "text/plain": [
       "array([0.00000000e+00, 1.34901824e-02, 2.71623497e-02, ...,\n",
       "       6.42549055e+05, 6.51217173e+05, 6.60002225e+05])"
      ]
     },
     "execution_count": 207,
     "metadata": {},
     "output_type": "execute_result"
    }
   ],
   "source": [
    "xx = np.linspace(-13.4,0.0,1001)\n",
    "zz = np.sort(np.exp(-xx)-1)\n",
    "\n",
    "zz"
   ]
  },
  {
   "cell_type": "code",
   "execution_count": 208,
   "metadata": {},
   "outputs": [
    {
     "data": {
      "text/plain": [
       "array([0.        , 0.01349018, 0.02716235, 0.04101896, 0.05506249,\n",
       "       0.06929548, 0.08372047, 0.09834006, 0.11315686, 0.12817355])"
      ]
     },
     "execution_count": 208,
     "metadata": {},
     "output_type": "execute_result"
    }
   ],
   "source": [
    "zz[:10]"
   ]
  },
  {
   "cell_type": "code",
   "execution_count": 209,
   "metadata": {},
   "outputs": [
    {
     "data": {
      "text/plain": [
       "-18.420680743952367"
      ]
     },
     "execution_count": 209,
     "metadata": {},
     "output_type": "execute_result"
    }
   ],
   "source": [
    "np.log(1e-8)"
   ]
  },
  {
   "cell_type": "code",
   "execution_count": null,
   "metadata": {},
   "outputs": [],
   "source": []
  }
 ],
 "metadata": {
  "kernelspec": {
   "display_name": "Python 3",
   "language": "python",
   "name": "python3"
  },
  "language_info": {
   "codemirror_mode": {
    "name": "ipython",
    "version": 3
   },
   "file_extension": ".py",
   "mimetype": "text/x-python",
   "name": "python",
   "nbconvert_exporter": "python",
   "pygments_lexer": "ipython3",
   "version": "3.7.2"
  }
 },
 "nbformat": 4,
 "nbformat_minor": 2
}
