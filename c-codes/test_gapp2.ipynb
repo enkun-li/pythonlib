{
 "cells": [
  {
   "cell_type": "code",
   "execution_count": 1,
   "metadata": {},
   "outputs": [],
   "source": [
    "%matplotlib inline\n",
    "from lib.my_gapp import *\n",
    "import numpy as np\n",
    "import matplotlib.pyplot as plt\n",
    "from mpl_toolkits import mplot3d\n",
    "from scipy.integrate import quad, dblquad"
   ]
  },
  {
   "cell_type": "markdown",
   "metadata": {},
   "source": [
    "# 强透镜\n",
    "\n",
    "## LCDM 模型"
   ]
  },
  {
   "cell_type": "code",
   "execution_count": 2,
   "metadata": {},
   "outputs": [],
   "source": [
    "sldat = np.loadtxt('/home/ekli/myworks/cosmodata/strong_lens_obs.txt', unpack=True)\n",
    "\n",
    "def lcdm_hz(z,omm=0.3,h0=70,omk=0.0):\n",
    "    return h0*np.sqrt(omm*(1+z)**3+(1-omm-omk)+omk*(1+z)**2)\n",
    "\n",
    "def lcdm_dz(z,omm=0.3,h0=70,omk=0.0):\n",
    "    func = lambda x: 1/lcdm_hz(x,omm,h0,omk)\n",
    "    dz = np.array([quad(func, 0.0, zi)[0] for zi in z])\n",
    "    \n",
    "    if(omk > 1e-8):\n",
    "        return 1/np.sqrt(omk)*np.sinh(h0*np.sqrt(omk) *dz)\n",
    "    if(omk < -1e-8):\n",
    "        return 1/np.sqrt(-omk)*np.sin(h0*np.sqrt(-omk) *dz)\n",
    "    return h0*dz\n",
    "\n",
    "def lcdm_dls(zl,zs,omm=0.3,h0=70,omk=0.0):\n",
    "    dl = lcdm_dz(zl,omm,h0,omk)\n",
    "    ds = lcdm_dz(zs,omm,h0,omk)\n",
    "    return np.sqrt(1+omk*ds**2) - dl*np.sqrt(1+omk*ds**2)\n",
    "\n",
    "def sl_loglike(omk):\n",
    "    chisq = (sldat[6]-lcdm_dls(sldat[0],sldat[1],omk=omk))**2/sldat[7]**2\n",
    "    return -0.5*np.sum(chisq)"
   ]
  },
  {
   "cell_type": "code",
   "execution_count": 3,
   "metadata": {},
   "outputs": [],
   "source": [
    "omk = np.linspace(-1,1,101)\n",
    "\n",
    "like = np.array([sl_loglike(ok) for ok in omk])"
   ]
  },
  {
   "cell_type": "code",
   "execution_count": 4,
   "metadata": {},
   "outputs": [
    {
     "data": {
      "text/plain": [
       "[<matplotlib.lines.Line2D at 0x7fcba1454198>]"
      ]
     },
     "execution_count": 4,
     "metadata": {},
     "output_type": "execute_result"
    },
    {
     "data": {
      "image/png": "[encoded data removed]",
      "text/plain": [
       "<Figure size 432x288 with 1 Axes>"
      ]
     },
     "metadata": {
      "needs_background": "light"
     },
     "output_type": "display_data"
    }
   ],
   "source": [
    "plt.plot(omk, like)"
   ]
  },
  {
   "cell_type": "markdown",
   "metadata": {},
   "source": [
    "## OHD 重构"
   ]
  },
  {
   "cell_type": "code",
   "execution_count": 5,
   "metadata": {},
   "outputs": [
    {
     "data": {
      "text/plain": [
       "0"
      ]
     },
     "execution_count": 5,
     "metadata": {},
     "output_type": "execute_result"
    }
   ],
   "source": [
    "initial_cosmo_gp(0)"
   ]
  },
  {
   "cell_type": "code",
   "execution_count": 14,
   "metadata": {},
   "outputs": [],
   "source": [
    "dcl = np.array([gp_dimles_comdistance(z) for z in sldat[0]])\n",
    "dcs = np.array([gp_dimles_comdistance(z) for z in sldat[1]])\n",
    "\n",
    "def rofchi(chi,omk):\n",
    "    fk = np.sqrt(np.abs(omk))\n",
    "    if(omk >0):\n",
    "        return 1/fk * np.sinh(fk*chi)\n",
    "    elif(omk<0):\n",
    "        return 1/fk*np.sin(fk*chi)\n",
    "    else:\n",
    "        return chi\n",
    "    \n",
    "dl = lambda omk: rofchi(dcl, omk)\n",
    "ds = lambda omk: rofchi(dcs, omk)\n",
    "dls = lambda omk: ds(omk) * np.sqrt(1+omk*dl(omk)**2) - dl(omk) * np.sqrt(1+omk*ds(omk)**2)\n",
    "\n",
    "def sl_loglike_ohd(omk):\n",
    "    chisq = (sldat[6]-dls(omk)/ds(omk))**2/sldat[7]**2\n",
    "    return -0.5*np.sum(chisq)"
   ]
  },
  {
   "cell_type": "code",
   "execution_count": 18,
   "metadata": {},
   "outputs": [
    {
     "data": {
      "text/plain": [
       "[<matplotlib.lines.Line2D at 0x7fcb9d71d278>]"
      ]
     },
     "execution_count": 18,
     "metadata": {},
     "output_type": "execute_result"
    },
    {
     "data": {
      "image/png": "[encoded data removed]",
      "text/plain": [
       "<Figure size 432x288 with 1 Axes>"
      ]
     },
     "metadata": {
      "needs_background": "light"
     },
     "output_type": "display_data"
    }
   ],
   "source": [
    "like = np.array([sl_loglike_ohd(ok) for ok in omk])\n",
    "\n",
    "plt.plot(omk, np.exp(like))"
   ]
  },
  {
   "cell_type": "markdown",
   "metadata": {},
   "source": [
    "## Pantheon 重构"
   ]
  },
  {
   "cell_type": "code",
   "execution_count": 19,
   "metadata": {},
   "outputs": [
    {
     "data": {
      "text/plain": [
       "(6, 205)"
      ]
     },
     "execution_count": 19,
     "metadata": {},
     "output_type": "execute_result"
    }
   ],
   "source": [
    "sn_dz = np.loadtxt('./data/SL_mean_obs.txt', unpack=True)\n",
    "sn_dz.shape"
   ]
  },
  {
   "cell_type": "code",
   "execution_count": 65,
   "metadata": {},
   "outputs": [],
   "source": [
    "Mb = 22;\n",
    "dl = sn_dz[2]/10**(0.2*Mb)\n",
    "ds = sn_dz[3]/10**(0.2*Mb)\n",
    "dls = lambda omk: ds * np.sqrt(1+omk*dl**2) - dl * np.sqrt(1+omk*ds**2)\n",
    "\n",
    "def sl_loglike_pan(omk, fe=1.01):\n",
    "    chisq = (sldat[6]-fe**2*dls(omk)/ds)**2/sldat[7]**2\n",
    "    return -0.5*np.sum(chisq)"
   ]
  },
  {
   "cell_type": "code",
   "execution_count": 66,
   "metadata": {},
   "outputs": [
    {
     "name": "stderr",
     "output_type": "stream",
     "text": [
      "/home/ekli/.local/anaconda3/lib/python3.7/site-packages/ipykernel_launcher.py:4: RuntimeWarning: invalid value encountered in sqrt\n",
      "  after removing the cwd from sys.path.\n"
     ]
    },
    {
     "data": {
      "text/plain": [
       "[<matplotlib.lines.Line2D at 0x7fcb9cfdb588>]"
      ]
     },
     "execution_count": 66,
     "metadata": {},
     "output_type": "execute_result"
    },
    {
     "data": {
      "image/png": "[encoded data removed]",
      "text/plain": [
       "<Figure size 432x288 with 1 Axes>"
      ]
     },
     "metadata": {
      "needs_background": "light"
     },
     "output_type": "display_data"
    }
   ],
   "source": [
    "like = np.array([sl_loglike_pan(ok) for ok in omk])\n",
    "\n",
    "#plt.plot(omk, np.exp(like))\n",
    "plt.plot(omk, np.exp(like))"
   ]
  },
  {
   "cell_type": "code",
   "execution_count": null,
   "metadata": {},
   "outputs": [],
   "source": []
  },
  {
   "cell_type": "code",
   "execution_count": null,
   "metadata": {},
   "outputs": [],
   "source": []
  }
 ],
 "metadata": {
  "kernelspec": {
   "display_name": "Python 3",
   "language": "python",
   "name": "python3"
  },
  "language_info": {
   "codemirror_mode": {
    "name": "ipython",
    "version": 3
   },
   "file_extension": ".py",
   "mimetype": "text/x-python",
   "name": "python",
   "nbconvert_exporter": "python",
   "pygments_lexer": "ipython3",
   "version": "3.7.2"
  }
 },
 "nbformat": 4,
 "nbformat_minor": 2
}
